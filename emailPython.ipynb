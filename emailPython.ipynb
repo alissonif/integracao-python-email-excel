import smtplib
from email.mime.multipart import MIMEMultipart
from email.mime.text import MIMEText
from email.mime.application import MIMEApplication
import pandas as pd

gerentes_df = pd.read_excel('Emails.xlsx')
# gerentes_df.info()
for i, email in enumerate(gerentes_df['E-mail']):
  gerente = gerentes_df.loc[i, 'Gerente']
  area = gerentes_df.loc[i, 'Relatório']
  # Configurações do servidor SMTP do Outlook.com
  outlook_smtp_server = 'smtp.office365.com'
  outlook_smtp_port = 587

  # Informações de autenticação
  username = 'your_email@outlook.com'
  password = 'your_password'

  # Criar uma mensagem de email
  msg = MIMEMultipart()
  msg['From'] = username
  msg['To'] = 'your_email@gmail.com'  # Substitua pelo endereço do destinatário
  msg['Subject'] = 'arquivo {}'.format(area)

  # Corpo da mensagem
  mensagem = '''
  Presado {},
  Segue em anexo o arquivo {}, conforme solicitado.
  Qualquer dúvida estou à disposição.
  Att.,
'''.format(gerente, area)
  msg.attach(MIMEText(mensagem, 'plain'))

  # Anexar um arquivo
  with open('{}.xlsx'.format(area), 'rb') as file:
      attachment = MIMEApplication(file.read(), _subtype="txt")
  attachment.add_header('Content-Disposition', 'attachment', filename='{}.xlsx'.format(area))
  msg.attach(attachment)

  # Estabelecer conexão com o servidor SMTP
  server = smtplib.SMTP(outlook_smtp_server, outlook_smtp_port)
  server.starttls()  # Use STARTTLS para criptografia

  # Faça login na conta do Outlook.com
  server.login(username, password)

  # Envie o email
  email = 'your_email@gmail.com'  # Substitua pelo endereço do destinatário
  server.sendmail(username, email, msg.as_string())

  # Encerre a conexão com o servidor SMTP
  server.quit()
